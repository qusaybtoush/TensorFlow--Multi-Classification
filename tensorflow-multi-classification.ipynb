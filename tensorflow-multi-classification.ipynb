{
 "cells": [
  {
   "cell_type": "markdown",
   "id": "53c05e85",
   "metadata": {
    "papermill": {
     "duration": 0.052191,
     "end_time": "2024-06-04T11:11:14.031834",
     "exception": false,
     "start_time": "2024-06-04T11:11:13.979643",
     "status": "completed"
    },
    "tags": []
   },
   "source": [
    "# Introduction 😃😃\n",
    "\n",
    "## The Car 🚗🚗 😃\n",
    "\n",
    "- This dataset for work - DNN Classifier in TensorFlow / Multi classification\n",
    "\n",
    "### About the Columns\n",
    "\n",
    "- buying = Is there an interest in buying?\n",
    "- maint = Car needs maintenance\n",
    "- doors = The number of car doors\n",
    "- persons = The number of car passenger\n",
    "- lug_boot= The size luggage\n",
    "- safety = Safety rate in the car\n",
    "- rating =Car performance evaluation\n",
    "\n",
    "\n",
    "\n",
    "# Mission :\n",
    "\n",
    "- Make  DNN Classifier in TensorFlow about Rating  column \n",
    "- [acc  = acceptable / good  / unacc = unacceptable / vgood= Very good ]\n",
    "\n",
    "\n",
    "\n",
    "# * Analyze and Explore DataSet 😃❤️🤝"
   ]
  },
  {
   "cell_type": "code",
   "execution_count": 1,
   "id": "28edd68a",
   "metadata": {
    "execution": {
     "iopub.execute_input": "2024-06-04T11:11:14.151396Z",
     "iopub.status.busy": "2024-06-04T11:11:14.150513Z",
     "iopub.status.idle": "2024-06-04T11:11:22.609827Z",
     "shell.execute_reply": "2024-06-04T11:11:22.608944Z",
     "shell.execute_reply.started": "2024-06-04T11:03:51.507454Z"
    },
    "papermill": {
     "duration": 8.527775,
     "end_time": "2024-06-04T11:11:22.610077",
     "exception": false,
     "start_time": "2024-06-04T11:11:14.082302",
     "status": "completed"
    },
    "tags": []
   },
   "outputs": [],
   "source": [
    "#Importing the basic librarires and deep learning librarires \n",
    "\n",
    "import numpy as np\n",
    "import pandas as pd\n",
    "import seaborn as sns\n",
    "import matplotlib.pyplot as plt\n",
    "plt.style.use(\"ggplot\")  #using style ggplot\n",
    "\n",
    "%matplotlib inline\n",
    "\n",
    "import tensorflow as tf\n",
    "import keras\n",
    "\n",
    "from sklearn.preprocessing import LabelEncoder\n",
    "import tempfile\n",
    "from sklearn.model_selection import train_test_split\n",
    "from sklearn.metrics import classification_report, confusion_matrix"
   ]
  },
  {
   "cell_type": "code",
   "execution_count": null,
   "id": "7b5b0946",
   "metadata": {
    "papermill": {
     "duration": 0.050023,
     "end_time": "2024-06-04T11:11:22.710332",
     "exception": false,
     "start_time": "2024-06-04T11:11:22.660309",
     "status": "completed"
    },
    "tags": []
   },
   "outputs": [],
   "source": []
  },
  {
   "cell_type": "code",
   "execution_count": 2,
   "id": "65f4189a",
   "metadata": {
    "execution": {
     "iopub.execute_input": "2024-06-04T11:11:22.821646Z",
     "iopub.status.busy": "2024-06-04T11:11:22.820733Z",
     "iopub.status.idle": "2024-06-04T11:11:22.858746Z",
     "shell.execute_reply": "2024-06-04T11:11:22.859429Z",
     "shell.execute_reply.started": "2024-06-04T10:35:16.620348Z"
    },
    "papermill": {
     "duration": 0.095146,
     "end_time": "2024-06-04T11:11:22.859645",
     "exception": false,
     "start_time": "2024-06-04T11:11:22.764499",
     "status": "completed"
    },
    "tags": []
   },
   "outputs": [
    {
     "data": {
      "text/html": [
       "<div>\n",
       "<style scoped>\n",
       "    .dataframe tbody tr th:only-of-type {\n",
       "        vertical-align: middle;\n",
       "    }\n",
       "\n",
       "    .dataframe tbody tr th {\n",
       "        vertical-align: top;\n",
       "    }\n",
       "\n",
       "    .dataframe thead th {\n",
       "        text-align: right;\n",
       "    }\n",
       "</style>\n",
       "<table border=\"1\" class=\"dataframe\">\n",
       "  <thead>\n",
       "    <tr style=\"text-align: right;\">\n",
       "      <th></th>\n",
       "      <th>buying</th>\n",
       "      <th>maint</th>\n",
       "      <th>doors</th>\n",
       "      <th>persons</th>\n",
       "      <th>lug_boot</th>\n",
       "      <th>safety</th>\n",
       "      <th>rating</th>\n",
       "    </tr>\n",
       "  </thead>\n",
       "  <tbody>\n",
       "    <tr>\n",
       "      <th>0</th>\n",
       "      <td>vhigh</td>\n",
       "      <td>vhigh</td>\n",
       "      <td>2</td>\n",
       "      <td>2</td>\n",
       "      <td>small</td>\n",
       "      <td>low</td>\n",
       "      <td>unacc</td>\n",
       "    </tr>\n",
       "    <tr>\n",
       "      <th>1</th>\n",
       "      <td>vhigh</td>\n",
       "      <td>vhigh</td>\n",
       "      <td>2</td>\n",
       "      <td>2</td>\n",
       "      <td>small</td>\n",
       "      <td>med</td>\n",
       "      <td>unacc</td>\n",
       "    </tr>\n",
       "    <tr>\n",
       "      <th>2</th>\n",
       "      <td>vhigh</td>\n",
       "      <td>vhigh</td>\n",
       "      <td>2</td>\n",
       "      <td>2</td>\n",
       "      <td>small</td>\n",
       "      <td>high</td>\n",
       "      <td>unacc</td>\n",
       "    </tr>\n",
       "    <tr>\n",
       "      <th>3</th>\n",
       "      <td>vhigh</td>\n",
       "      <td>vhigh</td>\n",
       "      <td>2</td>\n",
       "      <td>2</td>\n",
       "      <td>med</td>\n",
       "      <td>low</td>\n",
       "      <td>unacc</td>\n",
       "    </tr>\n",
       "    <tr>\n",
       "      <th>4</th>\n",
       "      <td>vhigh</td>\n",
       "      <td>vhigh</td>\n",
       "      <td>2</td>\n",
       "      <td>2</td>\n",
       "      <td>med</td>\n",
       "      <td>med</td>\n",
       "      <td>unacc</td>\n",
       "    </tr>\n",
       "  </tbody>\n",
       "</table>\n",
       "</div>"
      ],
      "text/plain": [
       "  buying  maint doors persons lug_boot safety rating\n",
       "0  vhigh  vhigh     2       2    small    low  unacc\n",
       "1  vhigh  vhigh     2       2    small    med  unacc\n",
       "2  vhigh  vhigh     2       2    small   high  unacc\n",
       "3  vhigh  vhigh     2       2      med    low  unacc\n",
       "4  vhigh  vhigh     2       2      med    med  unacc"
      ]
     },
     "execution_count": 2,
     "metadata": {},
     "output_type": "execute_result"
    }
   ],
   "source": [
    "#Importing the dataset\n",
    "df =pd.read_csv(\"../input/the-cars/car1.csv\")\n",
    "\n",
    "\n",
    "# look the data set\n",
    "df.head()"
   ]
  },
  {
   "cell_type": "code",
   "execution_count": 3,
   "id": "e02b01f2",
   "metadata": {
    "execution": {
     "iopub.execute_input": "2024-06-04T11:11:22.970807Z",
     "iopub.status.busy": "2024-06-04T11:11:22.969504Z",
     "iopub.status.idle": "2024-06-04T11:11:22.974341Z",
     "shell.execute_reply": "2024-06-04T11:11:22.975178Z",
     "shell.execute_reply.started": "2024-06-04T10:35:20.034969Z"
    },
    "papermill": {
     "duration": 0.064292,
     "end_time": "2024-06-04T11:11:22.975421",
     "exception": false,
     "start_time": "2024-06-04T11:11:22.911129",
     "status": "completed"
    },
    "tags": []
   },
   "outputs": [
    {
     "data": {
      "text/plain": [
       "(1728, 7)"
      ]
     },
     "execution_count": 3,
     "metadata": {},
     "output_type": "execute_result"
    }
   ],
   "source": [
    "# looking the shape DataSet\n",
    "df.shape"
   ]
  },
  {
   "cell_type": "code",
   "execution_count": 4,
   "id": "913a40c7",
   "metadata": {
    "execution": {
     "iopub.execute_input": "2024-06-04T11:11:23.110204Z",
     "iopub.status.busy": "2024-06-04T11:11:23.109316Z",
     "iopub.status.idle": "2024-06-04T11:11:23.113167Z",
     "shell.execute_reply": "2024-06-04T11:11:23.113781Z",
     "shell.execute_reply.started": "2024-06-04T10:35:22.939468Z"
    },
    "papermill": {
     "duration": 0.085601,
     "end_time": "2024-06-04T11:11:23.114014",
     "exception": false,
     "start_time": "2024-06-04T11:11:23.028413",
     "status": "completed"
    },
    "tags": []
   },
   "outputs": [
    {
     "name": "stdout",
     "output_type": "stream",
     "text": [
      "<class 'pandas.core.frame.DataFrame'>\n",
      "RangeIndex: 1728 entries, 0 to 1727\n",
      "Data columns (total 7 columns):\n",
      " #   Column    Non-Null Count  Dtype \n",
      "---  ------    --------------  ----- \n",
      " 0   buying    1728 non-null   object\n",
      " 1   maint     1728 non-null   object\n",
      " 2   doors     1728 non-null   object\n",
      " 3   persons   1728 non-null   object\n",
      " 4   lug_boot  1728 non-null   object\n",
      " 5   safety    1728 non-null   object\n",
      " 6   rating    1728 non-null   object\n",
      "dtypes: object(7)\n",
      "memory usage: 94.6+ KB\n"
     ]
    }
   ],
   "source": [
    "#Checking the dtypes of all the columns\n",
    "\n",
    "df.info()"
   ]
  },
  {
   "cell_type": "code",
   "execution_count": 5,
   "id": "75924660",
   "metadata": {
    "execution": {
     "iopub.execute_input": "2024-06-04T11:11:23.232664Z",
     "iopub.status.busy": "2024-06-04T11:11:23.231691Z",
     "iopub.status.idle": "2024-06-04T11:11:23.237265Z",
     "shell.execute_reply": "2024-06-04T11:11:23.236653Z",
     "shell.execute_reply.started": "2024-06-04T10:35:26.460002Z"
    },
    "papermill": {
     "duration": 0.068555,
     "end_time": "2024-06-04T11:11:23.237445",
     "exception": false,
     "start_time": "2024-06-04T11:11:23.168890",
     "status": "completed"
    },
    "tags": []
   },
   "outputs": [
    {
     "data": {
      "text/plain": [
       "buying      0\n",
       "maint       0\n",
       "doors       0\n",
       "persons     0\n",
       "lug_boot    0\n",
       "safety      0\n",
       "rating      0\n",
       "dtype: int64"
      ]
     },
     "execution_count": 5,
     "metadata": {},
     "output_type": "execute_result"
    }
   ],
   "source": [
    "#checking null value \n",
    "df.isna().sum()"
   ]
  },
  {
   "cell_type": "markdown",
   "id": "7e1e485b",
   "metadata": {
    "papermill": {
     "duration": 0.052687,
     "end_time": "2024-06-04T11:11:23.343623",
     "exception": false,
     "start_time": "2024-06-04T11:11:23.290936",
     "status": "completed"
    },
    "tags": []
   },
   "source": [
    "- No missing value"
   ]
  },
  {
   "cell_type": "markdown",
   "id": "25758c9e",
   "metadata": {
    "papermill": {
     "duration": 0.055515,
     "end_time": "2024-06-04T11:11:23.451453",
     "exception": false,
     "start_time": "2024-06-04T11:11:23.395938",
     "status": "completed"
    },
    "tags": []
   },
   "source": [
    "# Some Visualizations 😃❤️🤝"
   ]
  },
  {
   "cell_type": "code",
   "execution_count": 6,
   "id": "9aa0061c",
   "metadata": {
    "execution": {
     "iopub.execute_input": "2024-06-04T11:11:23.570145Z",
     "iopub.status.busy": "2024-06-04T11:11:23.568853Z",
     "iopub.status.idle": "2024-06-04T11:11:23.831359Z",
     "shell.execute_reply": "2024-06-04T11:11:23.832027Z",
     "shell.execute_reply.started": "2024-06-04T10:35:45.368636Z"
    },
    "papermill": {
     "duration": 0.325994,
     "end_time": "2024-06-04T11:11:23.832240",
     "exception": false,
     "start_time": "2024-06-04T11:11:23.506246",
     "status": "completed"
    },
    "tags": []
   },
   "outputs": [
    {
     "name": "stderr",
     "output_type": "stream",
     "text": [
      "/opt/conda/lib/python3.7/site-packages/seaborn/_decorators.py:43: FutureWarning: Pass the following variable as a keyword arg: x. From version 0.12, the only valid positional argument will be `data`, and passing other arguments without an explicit keyword will result in an error or misinterpretation.\n",
      "  FutureWarning\n"
     ]
    },
    {
     "data": {
      "image/png": "[encoded data removed]",
      "text/plain": [
       "<Figure size 1080x504 with 1 Axes>"
      ]
     },
     "metadata": {
      "needs_background": "light"
     },
     "output_type": "display_data"
    }
   ],
   "source": [
    "# show the relation buying\n",
    "plt.figure(figsize=(15,7))\n",
    "sns.countplot(df[\"buying\"])\n",
    "plt.show()"
   ]
  },
  {
   "cell_type": "code",
   "execution_count": 7,
   "id": "e8873a68",
   "metadata": {
    "execution": {
     "iopub.execute_input": "2024-06-04T11:11:23.988671Z",
     "iopub.status.busy": "2024-06-04T11:11:23.951918Z",
     "iopub.status.idle": "2024-06-04T11:11:24.131354Z",
     "shell.execute_reply": "2024-06-04T11:11:24.130557Z",
     "shell.execute_reply.started": "2024-06-04T10:35:37.039656Z"
    },
    "papermill": {
     "duration": 0.245182,
     "end_time": "2024-06-04T11:11:24.131524",
     "exception": false,
     "start_time": "2024-06-04T11:11:23.886342",
     "status": "completed"
    },
    "tags": []
   },
   "outputs": [
    {
     "name": "stderr",
     "output_type": "stream",
     "text": [
      "/opt/conda/lib/python3.7/site-packages/seaborn/_decorators.py:43: FutureWarning: Pass the following variable as a keyword arg: x. From version 0.12, the only valid positional argument will be `data`, and passing other arguments without an explicit keyword will result in an error or misinterpretation.\n",
      "  FutureWarning\n"
     ]
    },
    {
     "data": {
      "text/plain": [
       "<AxesSubplot:xlabel='maint', ylabel='count'>"
      ]
     },
     "execution_count": 7,
     "metadata": {},
     "output_type": "execute_result"
    },
    {
     "data": {
      "image/png": "[encoded data removed]",
      "text/plain": [
       "<Figure size 1080x504 with 1 Axes>"
      ]
     },
     "metadata": {
      "needs_background": "light"
     },
     "output_type": "display_data"
    }
   ],
   "source": [
    "# show the relation maint\n",
    "plt.figure(figsize=(15,7))\n",
    "sns.countplot(df[\"maint\"])"
   ]
  },
  {
   "cell_type": "code",
   "execution_count": 8,
   "id": "aa570fee",
   "metadata": {
    "execution": {
     "iopub.execute_input": "2024-06-04T11:11:24.259769Z",
     "iopub.status.busy": "2024-06-04T11:11:24.256936Z",
     "iopub.status.idle": "2024-06-04T11:11:24.435469Z",
     "shell.execute_reply": "2024-06-04T11:11:24.434695Z",
     "shell.execute_reply.started": "2024-06-04T10:35:50.200249Z"
    },
    "papermill": {
     "duration": 0.243833,
     "end_time": "2024-06-04T11:11:24.435645",
     "exception": false,
     "start_time": "2024-06-04T11:11:24.191812",
     "status": "completed"
    },
    "tags": []
   },
   "outputs": [
    {
     "name": "stderr",
     "output_type": "stream",
     "text": [
      "/opt/conda/lib/python3.7/site-packages/seaborn/_decorators.py:43: FutureWarning: Pass the following variable as a keyword arg: x. From version 0.12, the only valid positional argument will be `data`, and passing other arguments without an explicit keyword will result in an error or misinterpretation.\n",
      "  FutureWarning\n"
     ]
    },
    {
     "data": {
      "text/plain": [
       "<AxesSubplot:xlabel='doors', ylabel='count'>"
      ]
     },
     "execution_count": 8,
     "metadata": {},
     "output_type": "execute_result"
    },
    {
     "data": {
      "image/png": "[encoded data removed]",
      "text/plain": [
       "<Figure size 1080x504 with 1 Axes>"
      ]
     },
     "metadata": {
      "needs_background": "light"
     },
     "output_type": "display_data"
    }
   ],
   "source": [
    "# show the relation doors\n",
    "plt.figure(figsize=(15,7))\n",
    "sns.countplot(df[\"doors\"])"
   ]
  },
  {
   "cell_type": "code",
   "execution_count": 9,
   "id": "8c0a9ead",
   "metadata": {
    "execution": {
     "iopub.execute_input": "2024-06-04T11:11:24.579868Z",
     "iopub.status.busy": "2024-06-04T11:11:24.565598Z",
     "iopub.status.idle": "2024-06-04T11:11:24.806296Z",
     "shell.execute_reply": "2024-06-04T11:11:24.806869Z",
     "shell.execute_reply.started": "2024-06-04T10:35:52.761728Z"
    },
    "papermill": {
     "duration": 0.311008,
     "end_time": "2024-06-04T11:11:24.807106",
     "exception": false,
     "start_time": "2024-06-04T11:11:24.496098",
     "status": "completed"
    },
    "tags": []
   },
   "outputs": [
    {
     "name": "stderr",
     "output_type": "stream",
     "text": [
      "/opt/conda/lib/python3.7/site-packages/seaborn/_decorators.py:43: FutureWarning: Pass the following variable as a keyword arg: x. From version 0.12, the only valid positional argument will be `data`, and passing other arguments without an explicit keyword will result in an error or misinterpretation.\n",
      "  FutureWarning\n"
     ]
    },
    {
     "data": {
      "text/plain": [
       "<AxesSubplot:xlabel='persons', ylabel='count'>"
      ]
     },
     "execution_count": 9,
     "metadata": {},
     "output_type": "execute_result"
    },
    {
     "data": {
      "image/png": "[encoded data removed]",
      "text/plain": [
       "<Figure size 1080x504 with 1 Axes>"
      ]
     },
     "metadata": {
      "needs_background": "light"
     },
     "output_type": "display_data"
    }
   ],
   "source": [
    "# show the relation persons size\n",
    "plt.figure(figsize=(15,7))\n",
    "sns.countplot(df[\"persons\"])"
   ]
  },
  {
   "cell_type": "code",
   "execution_count": 10,
   "id": "310b9f2d",
   "metadata": {
    "execution": {
     "iopub.execute_input": "2024-06-04T11:11:24.941244Z",
     "iopub.status.busy": "2024-06-04T11:11:24.940365Z",
     "iopub.status.idle": "2024-06-04T11:11:25.118994Z",
     "shell.execute_reply": "2024-06-04T11:11:25.118166Z",
     "shell.execute_reply.started": "2024-06-04T10:35:55.239666Z"
    },
    "papermill": {
     "duration": 0.250355,
     "end_time": "2024-06-04T11:11:25.119164",
     "exception": false,
     "start_time": "2024-06-04T11:11:24.868809",
     "status": "completed"
    },
    "tags": []
   },
   "outputs": [
    {
     "name": "stderr",
     "output_type": "stream",
     "text": [
      "/opt/conda/lib/python3.7/site-packages/seaborn/_decorators.py:43: FutureWarning: Pass the following variable as a keyword arg: x. From version 0.12, the only valid positional argument will be `data`, and passing other arguments without an explicit keyword will result in an error or misinterpretation.\n",
      "  FutureWarning\n"
     ]
    },
    {
     "data": {
      "text/plain": [
       "<AxesSubplot:xlabel='lug_boot', ylabel='count'>"
      ]
     },
     "execution_count": 10,
     "metadata": {},
     "output_type": "execute_result"
    },
    {
     "data": {
      "image/png": "[encoded data removed]",
      "text/plain": [
       "<Figure size 1080x504 with 1 Axes>"
      ]
     },
     "metadata": {
      "needs_background": "light"
     },
     "output_type": "display_data"
    }
   ],
   "source": [
    "# show the relation luggage \n",
    "plt.figure(figsize=(15,7))\n",
    "sns.countplot(df[\"lug_boot\"])"
   ]
  },
  {
   "cell_type": "markdown",
   "id": "286bba04",
   "metadata": {
    "papermill": {
     "duration": 0.063339,
     "end_time": "2024-06-04T11:11:25.247803",
     "exception": false,
     "start_time": "2024-06-04T11:11:25.184464",
     "status": "completed"
    },
    "tags": []
   },
   "source": [
    "# Mision \n",
    "### Make Multi classification using TensorFlow about Rating column.\n",
    "\n",
    "#### First we need convert all the category value to integer using LabelEncoder"
   ]
  },
  {
   "cell_type": "code",
   "execution_count": 11,
   "id": "1806632e",
   "metadata": {
    "execution": {
     "iopub.execute_input": "2024-06-04T11:11:25.383312Z",
     "iopub.status.busy": "2024-06-04T11:11:25.382069Z",
     "iopub.status.idle": "2024-06-04T11:11:25.391675Z",
     "shell.execute_reply": "2024-06-04T11:11:25.390995Z",
     "shell.execute_reply.started": "2022-06-30T20:28:08.388067Z"
    },
    "papermill": {
     "duration": 0.081559,
     "end_time": "2024-06-04T11:11:25.391850",
     "exception": false,
     "start_time": "2024-06-04T11:11:25.310291",
     "status": "completed"
    },
    "tags": []
   },
   "outputs": [
    {
     "name": "stdout",
     "output_type": "stream",
     "text": [
      "X Train :  (1296, 6)\n",
      "X Test  :  (432, 6)\n",
      "Y Train :  (1296,)\n",
      "Y Test  :  (432,)\n"
     ]
    }
   ],
   "source": [
    "#Defined X value and y value , and split the data train\n",
    "\n",
    "X = df.drop(columns=\"rating\")           \n",
    "y = df[\"rating\"]    # y = quality\n",
    "# split the data train and test\n",
    "X_train, X_test, y_train, y_test = train_test_split(X, y, test_size=0.25, random_state=42)\n",
    "\n",
    "print(\"X Train : \", X_train.shape)\n",
    "print(\"X Test  : \", X_test.shape)\n",
    "print(\"Y Train : \", y_train.shape)\n",
    "print(\"Y Test  : \", y_test.shape)"
   ]
  },
  {
   "cell_type": "code",
   "execution_count": 12,
   "id": "200829c6",
   "metadata": {
    "execution": {
     "iopub.execute_input": "2024-06-04T11:11:25.536607Z",
     "iopub.status.busy": "2024-06-04T11:11:25.535424Z",
     "iopub.status.idle": "2024-06-04T11:11:25.538089Z",
     "shell.execute_reply": "2024-06-04T11:11:25.538737Z",
     "shell.execute_reply.started": "2024-06-04T10:46:42.140523Z"
    },
    "papermill": {
     "duration": 0.079636,
     "end_time": "2024-06-04T11:11:25.538992",
     "exception": false,
     "start_time": "2024-06-04T11:11:25.459356",
     "status": "completed"
    },
    "tags": []
   },
   "outputs": [],
   "source": [
    "# replace the object datatype to int \n",
    "\n",
    "# separate the columns numerical and category\n",
    "\n",
    "cat = []\n",
    "num = []\n",
    "for i in df.columns:\n",
    "    if df[i].dtypes == 'O':\n",
    "        cat.append(i)\n",
    "    else:\n",
    "        num.append(i)\n",
    "\n",
    "data_n=df[num]   # new dataframe just type numeric\n",
    "data_c=df[cat]  # new dataframe just type object"
   ]
  },
  {
   "cell_type": "code",
   "execution_count": 13,
   "id": "f4c3934b",
   "metadata": {
    "execution": {
     "iopub.execute_input": "2024-06-04T11:11:25.683258Z",
     "iopub.status.busy": "2024-06-04T11:11:25.682410Z",
     "iopub.status.idle": "2024-06-04T11:11:25.688266Z",
     "shell.execute_reply": "2024-06-04T11:11:25.687437Z",
     "shell.execute_reply.started": "2024-06-04T10:46:52.996702Z"
    },
    "papermill": {
     "duration": 0.084905,
     "end_time": "2024-06-04T11:11:25.688435",
     "exception": false,
     "start_time": "2024-06-04T11:11:25.603530",
     "status": "completed"
    },
    "tags": []
   },
   "outputs": [],
   "source": [
    "# change the columns type object to numeric\n",
    "label_encoders = {}\n",
    "categorical_columns = data_c.columns  # I would recommend using columns names here if you're using pandas. If you're using numpy then stick with range(n) instead\n",
    "\n",
    "for column in categorical_columns:\n",
    "    label_encoders[column] = LabelEncoder()\n",
    "    data_c[column] = label_encoders[column].fit_transform(data_c[column])"
   ]
  },
  {
   "cell_type": "code",
   "execution_count": 14,
   "id": "7cea5b8e",
   "metadata": {
    "execution": {
     "iopub.execute_input": "2024-06-04T11:11:25.825170Z",
     "iopub.status.busy": "2024-06-04T11:11:25.824329Z",
     "iopub.status.idle": "2024-06-04T11:11:25.837520Z",
     "shell.execute_reply": "2024-06-04T11:11:25.836851Z",
     "shell.execute_reply.started": "2024-06-04T10:47:05.759857Z"
    },
    "papermill": {
     "duration": 0.082864,
     "end_time": "2024-06-04T11:11:25.837706",
     "exception": false,
     "start_time": "2024-06-04T11:11:25.754842",
     "status": "completed"
    },
    "tags": []
   },
   "outputs": [
    {
     "data": {
      "text/html": [
       "<div>\n",
       "<style scoped>\n",
       "    .dataframe tbody tr th:only-of-type {\n",
       "        vertical-align: middle;\n",
       "    }\n",
       "\n",
       "    .dataframe tbody tr th {\n",
       "        vertical-align: top;\n",
       "    }\n",
       "\n",
       "    .dataframe thead th {\n",
       "        text-align: right;\n",
       "    }\n",
       "</style>\n",
       "<table border=\"1\" class=\"dataframe\">\n",
       "  <thead>\n",
       "    <tr style=\"text-align: right;\">\n",
       "      <th></th>\n",
       "      <th>buying</th>\n",
       "      <th>maint</th>\n",
       "      <th>doors</th>\n",
       "      <th>persons</th>\n",
       "      <th>lug_boot</th>\n",
       "      <th>safety</th>\n",
       "      <th>rating</th>\n",
       "    </tr>\n",
       "  </thead>\n",
       "  <tbody>\n",
       "    <tr>\n",
       "      <th>0</th>\n",
       "      <td>3</td>\n",
       "      <td>3</td>\n",
       "      <td>0</td>\n",
       "      <td>0</td>\n",
       "      <td>2</td>\n",
       "      <td>1</td>\n",
       "      <td>2</td>\n",
       "    </tr>\n",
       "    <tr>\n",
       "      <th>1</th>\n",
       "      <td>3</td>\n",
       "      <td>3</td>\n",
       "      <td>0</td>\n",
       "      <td>0</td>\n",
       "      <td>2</td>\n",
       "      <td>2</td>\n",
       "      <td>2</td>\n",
       "    </tr>\n",
       "    <tr>\n",
       "      <th>2</th>\n",
       "      <td>3</td>\n",
       "      <td>3</td>\n",
       "      <td>0</td>\n",
       "      <td>0</td>\n",
       "      <td>2</td>\n",
       "      <td>0</td>\n",
       "      <td>2</td>\n",
       "    </tr>\n",
       "    <tr>\n",
       "      <th>3</th>\n",
       "      <td>3</td>\n",
       "      <td>3</td>\n",
       "      <td>0</td>\n",
       "      <td>0</td>\n",
       "      <td>1</td>\n",
       "      <td>1</td>\n",
       "      <td>2</td>\n",
       "    </tr>\n",
       "    <tr>\n",
       "      <th>4</th>\n",
       "      <td>3</td>\n",
       "      <td>3</td>\n",
       "      <td>0</td>\n",
       "      <td>0</td>\n",
       "      <td>1</td>\n",
       "      <td>2</td>\n",
       "      <td>2</td>\n",
       "    </tr>\n",
       "  </tbody>\n",
       "</table>\n",
       "</div>"
      ],
      "text/plain": [
       "   buying  maint  doors  persons  lug_boot  safety  rating\n",
       "0       3      3      0        0         2       1       2\n",
       "1       3      3      0        0         2       2       2\n",
       "2       3      3      0        0         2       0       2\n",
       "3       3      3      0        0         1       1       2\n",
       "4       3      3      0        0         1       2       2"
      ]
     },
     "execution_count": 14,
     "metadata": {},
     "output_type": "execute_result"
    }
   ],
   "source": [
    " # merge 2 data set \n",
    "frames = [data_c, data_n]\n",
    "  \n",
    "data1 = pd.concat(frames,axis=1)\n",
    "data1.head()"
   ]
  },
  {
   "cell_type": "code",
   "execution_count": 15,
   "id": "d3fda810",
   "metadata": {
    "execution": {
     "iopub.execute_input": "2024-06-04T11:11:25.981734Z",
     "iopub.status.busy": "2024-06-04T11:11:25.980774Z",
     "iopub.status.idle": "2024-06-04T11:11:25.984514Z",
     "shell.execute_reply": "2024-06-04T11:11:25.985164Z",
     "shell.execute_reply.started": "2024-06-04T10:47:22.000029Z"
    },
    "papermill": {
     "duration": 0.083597,
     "end_time": "2024-06-04T11:11:25.985363",
     "exception": false,
     "start_time": "2024-06-04T11:11:25.901766",
     "status": "completed"
    },
    "tags": []
   },
   "outputs": [
    {
     "name": "stdout",
     "output_type": "stream",
     "text": [
      "<class 'pandas.core.frame.DataFrame'>\n",
      "RangeIndex: 1728 entries, 0 to 1727\n",
      "Data columns (total 7 columns):\n",
      " #   Column    Non-Null Count  Dtype\n",
      "---  ------    --------------  -----\n",
      " 0   buying    1728 non-null   int64\n",
      " 1   maint     1728 non-null   int64\n",
      " 2   doors     1728 non-null   int64\n",
      " 3   persons   1728 non-null   int64\n",
      " 4   lug_boot  1728 non-null   int64\n",
      " 5   safety    1728 non-null   int64\n",
      " 6   rating    1728 non-null   int64\n",
      "dtypes: int64(7)\n",
      "memory usage: 94.6 KB\n"
     ]
    }
   ],
   "source": [
    "#information Dataset\n",
    "data1.info()\n"
   ]
  },
  {
   "cell_type": "code",
   "execution_count": 16,
   "id": "e5431601",
   "metadata": {
    "execution": {
     "iopub.execute_input": "2024-06-04T11:11:26.133270Z",
     "iopub.status.busy": "2024-06-04T11:11:26.132125Z",
     "iopub.status.idle": "2024-06-04T11:11:26.137256Z",
     "shell.execute_reply": "2024-06-04T11:11:26.136582Z",
     "shell.execute_reply.started": "2024-06-04T10:48:24.140323Z"
    },
    "papermill": {
     "duration": 0.081429,
     "end_time": "2024-06-04T11:11:26.137424",
     "exception": false,
     "start_time": "2024-06-04T11:11:26.055995",
     "status": "completed"
    },
    "tags": []
   },
   "outputs": [
    {
     "data": {
      "text/plain": [
       "2    1210\n",
       "0     384\n",
       "1      69\n",
       "3      65\n",
       "Name: rating, dtype: int64"
      ]
     },
     "execution_count": 16,
     "metadata": {},
     "output_type": "execute_result"
    }
   ],
   "source": [
    "# Rating column has 4 categories \n",
    "data1[\"rating\"].value_counts()"
   ]
  },
  {
   "cell_type": "code",
   "execution_count": 17,
   "id": "6b4d5a1c",
   "metadata": {
    "execution": {
     "iopub.execute_input": "2024-06-04T11:11:26.274316Z",
     "iopub.status.busy": "2024-06-04T11:11:26.273441Z",
     "iopub.status.idle": "2024-06-04T11:11:26.280695Z",
     "shell.execute_reply": "2024-06-04T11:11:26.279962Z",
     "shell.execute_reply.started": "2024-06-04T10:54:07.640671Z"
    },
    "papermill": {
     "duration": 0.07817,
     "end_time": "2024-06-04T11:11:26.280873",
     "exception": false,
     "start_time": "2024-06-04T11:11:26.202703",
     "status": "completed"
    },
    "tags": []
   },
   "outputs": [],
   "source": [
    "#Defined X value and y value , \n",
    "\n",
    "X = data1.drop(columns=\"rating\")           \n",
    "y = data1[\"rating\"]    # y = quality"
   ]
  },
  {
   "cell_type": "code",
   "execution_count": 18,
   "id": "a46eb98f",
   "metadata": {
    "execution": {
     "iopub.execute_input": "2024-06-04T11:11:26.419329Z",
     "iopub.status.busy": "2024-06-04T11:11:26.418105Z",
     "iopub.status.idle": "2024-06-04T11:11:26.888790Z",
     "shell.execute_reply": "2024-06-04T11:11:26.888028Z",
     "shell.execute_reply.started": "2024-06-04T10:55:28.604239Z"
    },
    "papermill": {
     "duration": 0.540979,
     "end_time": "2024-06-04T11:11:26.889022",
     "exception": false,
     "start_time": "2024-06-04T11:11:26.348043",
     "status": "completed"
    },
    "tags": []
   },
   "outputs": [],
   "source": [
    "# becaues we have 4 categories , we should make y 4 colums , this Multi classification in TF\n",
    "y_cat = tf.keras.utils.to_categorical(y)\n"
   ]
  },
  {
   "cell_type": "code",
   "execution_count": 19,
   "id": "fa1472fb",
   "metadata": {
    "execution": {
     "iopub.execute_input": "2024-06-04T11:11:27.030046Z",
     "iopub.status.busy": "2024-06-04T11:11:27.029036Z",
     "iopub.status.idle": "2024-06-04T11:11:27.035971Z",
     "shell.execute_reply": "2024-06-04T11:11:27.035272Z",
     "shell.execute_reply.started": "2024-06-04T10:55:35.588515Z"
    },
    "papermill": {
     "duration": 0.080638,
     "end_time": "2024-06-04T11:11:27.036140",
     "exception": false,
     "start_time": "2024-06-04T11:11:26.955502",
     "status": "completed"
    },
    "tags": []
   },
   "outputs": [
    {
     "name": "stdout",
     "output_type": "stream",
     "text": [
      "X Train :  (1296, 6)\n",
      "X Test  :  (432, 6)\n",
      "Y Train :  (1296, 4)\n",
      "Y Test  :  (432, 4)\n"
     ]
    }
   ],
   "source": [
    "\n",
    "# split the data train and test\n",
    "X_train, X_test, y_train, y_test = train_test_split(X, y_cat, test_size=0.25, random_state=42)\n",
    "\n",
    "print(\"X Train : \", X_train.shape)\n",
    "print(\"X Test  : \", X_test.shape)\n",
    "print(\"Y Train : \", y_train.shape)\n",
    "print(\"Y Test  : \", y_test.shape)"
   ]
  },
  {
   "cell_type": "markdown",
   "id": "83369b13",
   "metadata": {
    "papermill": {
     "duration": 0.067323,
     "end_time": "2024-06-04T11:11:27.170702",
     "exception": false,
     "start_time": "2024-06-04T11:11:27.103379",
     "status": "completed"
    },
    "tags": []
   },
   "source": [
    "# TensorFlow "
   ]
  },
  {
   "cell_type": "code",
   "execution_count": 20,
   "id": "ee9a064c",
   "metadata": {
    "execution": {
     "iopub.execute_input": "2024-06-04T11:11:27.314869Z",
     "iopub.status.busy": "2024-06-04T11:11:27.314010Z",
     "iopub.status.idle": "2024-06-04T11:11:27.413579Z",
     "shell.execute_reply": "2024-06-04T11:11:27.414210Z",
     "shell.execute_reply.started": "2024-06-04T10:55:44.781228Z"
    },
    "papermill": {
     "duration": 0.175231,
     "end_time": "2024-06-04T11:11:27.414432",
     "exception": false,
     "start_time": "2024-06-04T11:11:27.239201",
     "status": "completed"
    },
    "tags": []
   },
   "outputs": [],
   "source": [
    "# Model definition\n",
    "\n",
    "M_Class = keras.models.Sequential([\n",
    "    #keras.layers.Input(shape=30),\n",
    "    keras.layers.Dense(8,activation='tanh'),\n",
    "    keras.layers.Dense(128,activation=\"tanh\"),\n",
    "    keras.layers.Dense(64,activation=\"tanh\"),\n",
    "    keras.layers.Dropout(0.2),\n",
    "    keras.layers.Dense(4,activation='softmax'),  # choose 4 because we have 4 categories\n",
    "    \n",
    "])\n",
    "\n"
   ]
  },
  {
   "cell_type": "code",
   "execution_count": 21,
   "id": "c8b7dcb2",
   "metadata": {
    "execution": {
     "iopub.execute_input": "2024-06-04T11:11:27.563325Z",
     "iopub.status.busy": "2024-06-04T11:11:27.562418Z",
     "iopub.status.idle": "2024-06-04T11:11:27.581316Z",
     "shell.execute_reply": "2024-06-04T11:11:27.580504Z",
     "shell.execute_reply.started": "2024-06-04T10:55:47.431412Z"
    },
    "papermill": {
     "duration": 0.097732,
     "end_time": "2024-06-04T11:11:27.581618",
     "exception": false,
     "start_time": "2024-06-04T11:11:27.483886",
     "status": "completed"
    },
    "tags": []
   },
   "outputs": [],
   "source": [
    "# make compile \n",
    "M_Class.compile(optimizer='adam',loss='categorical_crossentropy',metrics=[\"accuracy\"])"
   ]
  },
  {
   "cell_type": "code",
   "execution_count": 22,
   "id": "bfa044b2",
   "metadata": {
    "execution": {
     "iopub.execute_input": "2024-06-04T11:11:27.722492Z",
     "iopub.status.busy": "2024-06-04T11:11:27.721437Z",
     "iopub.status.idle": "2024-06-04T11:11:29.857695Z",
     "shell.execute_reply": "2024-06-04T11:11:29.857049Z",
     "shell.execute_reply.started": "2024-06-04T10:55:50.019733Z"
    },
    "papermill": {
     "duration": 2.209338,
     "end_time": "2024-06-04T11:11:29.857872",
     "exception": false,
     "start_time": "2024-06-04T11:11:27.648534",
     "status": "completed"
    },
    "tags": []
   },
   "outputs": [
    {
     "name": "stdout",
     "output_type": "stream",
     "text": [
      "Epoch 1/100\n",
      "2/2 [==============================] - 1s 277ms/step - loss: 1.4518 - accuracy: 0.2261 - val_loss: 1.2152 - val_accuracy: 0.4792\n",
      "Epoch 2/100\n",
      "2/2 [==============================] - 0s 43ms/step - loss: 1.1866 - accuracy: 0.5208 - val_loss: 1.0495 - val_accuracy: 0.6551\n",
      "Epoch 3/100\n",
      "2/2 [==============================] - 0s 43ms/step - loss: 1.0187 - accuracy: 0.6806 - val_loss: 0.9687 - val_accuracy: 0.6829\n",
      "Epoch 4/100\n",
      "2/2 [==============================] - 0s 42ms/step - loss: 0.9306 - accuracy: 0.7022 - val_loss: 0.9389 - val_accuracy: 0.6852\n",
      "Epoch 5/100\n",
      "2/2 [==============================] - 0s 43ms/step - loss: 0.9028 - accuracy: 0.7014 - val_loss: 0.9255 - val_accuracy: 0.6852\n",
      "Epoch 6/100\n",
      "2/2 [==============================] - 0s 44ms/step - loss: 0.8811 - accuracy: 0.7060 - val_loss: 0.9091 - val_accuracy: 0.6875\n",
      "Epoch 7/100\n",
      "2/2 [==============================] - 0s 45ms/step - loss: 0.8537 - accuracy: 0.7076 - val_loss: 0.8868 - val_accuracy: 0.6829\n",
      "Epoch 8/100\n",
      "2/2 [==============================] - 0s 44ms/step - loss: 0.8447 - accuracy: 0.7060 - val_loss: 0.8639 - val_accuracy: 0.6875\n",
      "Epoch 9/100\n",
      "2/2 [==============================] - 0s 45ms/step - loss: 0.8262 - accuracy: 0.6991 - val_loss: 0.8494 - val_accuracy: 0.6759\n",
      "Epoch 10/100\n",
      "2/2 [==============================] - 0s 47ms/step - loss: 0.8179 - accuracy: 0.6937 - val_loss: 0.8444 - val_accuracy: 0.6620\n",
      "Epoch 11/100\n",
      "2/2 [==============================] - 0s 44ms/step - loss: 0.8126 - accuracy: 0.6813 - val_loss: 0.8423 - val_accuracy: 0.6713\n",
      "Epoch 12/100\n",
      "2/2 [==============================] - 0s 45ms/step - loss: 0.8201 - accuracy: 0.6752 - val_loss: 0.8387 - val_accuracy: 0.6713\n",
      "Epoch 13/100\n",
      "2/2 [==============================] - 0s 44ms/step - loss: 0.8153 - accuracy: 0.6744 - val_loss: 0.8337 - val_accuracy: 0.6713\n",
      "Epoch 14/100\n",
      "2/2 [==============================] - 0s 43ms/step - loss: 0.8011 - accuracy: 0.6790 - val_loss: 0.8297 - val_accuracy: 0.6736\n",
      "Epoch 15/100\n",
      "2/2 [==============================] - 0s 45ms/step - loss: 0.8067 - accuracy: 0.6821 - val_loss: 0.8283 - val_accuracy: 0.6782\n",
      "Epoch 16/100\n",
      "2/2 [==============================] - 0s 46ms/step - loss: 0.7991 - accuracy: 0.6890 - val_loss: 0.8280 - val_accuracy: 0.6852\n"
     ]
    }
   ],
   "source": [
    "#fit the model\n",
    "\n",
    "Fit_M= M_Class.fit(X_train,y_train,\n",
    "              validation_data=(X_test,y_test),\n",
    "               epochs=100,\n",
    "              batch_size=1000, \n",
    "               verbose=1,\n",
    "              callbacks=[ tf.keras.callbacks.EarlyStopping(\n",
    "              patience=10,monitor='val_accuracy',restore_best_weights=True)])"
   ]
  },
  {
   "cell_type": "markdown",
   "id": "01d28943",
   "metadata": {
    "papermill": {
     "duration": 0.081146,
     "end_time": "2024-06-04T11:11:30.020150",
     "exception": false,
     "start_time": "2024-06-04T11:11:29.939004",
     "status": "completed"
    },
    "tags": []
   },
   "source": [
    "- The Accuracy 68% not very good, but this multi classification.\n",
    "- Note : you can change the epochs ans batch size  for better result "
   ]
  },
  {
   "cell_type": "code",
   "execution_count": 23,
   "id": "0fae676d",
   "metadata": {
    "execution": {
     "iopub.execute_input": "2024-06-04T11:11:30.192928Z",
     "iopub.status.busy": "2024-06-04T11:11:30.190429Z",
     "iopub.status.idle": "2024-06-04T11:11:30.201769Z",
     "shell.execute_reply": "2024-06-04T11:11:30.201034Z",
     "shell.execute_reply.started": "2024-06-04T10:59:02.480312Z"
    },
    "papermill": {
     "duration": 0.10036,
     "end_time": "2024-06-04T11:11:30.201978",
     "exception": false,
     "start_time": "2024-06-04T11:11:30.101618",
     "status": "completed"
    },
    "tags": []
   },
   "outputs": [
    {
     "name": "stdout",
     "output_type": "stream",
     "text": [
      "Model: \"sequential\"\n",
      "_________________________________________________________________\n",
      "Layer (type)                 Output Shape              Param #   \n",
      "=================================================================\n",
      "dense (Dense)                (None, 8)                 56        \n",
      "_________________________________________________________________\n",
      "dense_1 (Dense)              (None, 128)               1152      \n",
      "_________________________________________________________________\n",
      "dense_2 (Dense)              (None, 64)                8256      \n",
      "_________________________________________________________________\n",
      "dropout (Dropout)            (None, 64)                0         \n",
      "_________________________________________________________________\n",
      "dense_3 (Dense)              (None, 4)                 260       \n",
      "=================================================================\n",
      "Total params: 9,724\n",
      "Trainable params: 9,724\n",
      "Non-trainable params: 0\n",
      "_________________________________________________________________\n"
     ]
    }
   ],
   "source": [
    "# Model Summary \n",
    "\n",
    "M_Class.summary()"
   ]
  },
  {
   "cell_type": "code",
   "execution_count": 24,
   "id": "7d479fe3",
   "metadata": {
    "execution": {
     "iopub.execute_input": "2024-06-04T11:11:30.374214Z",
     "iopub.status.busy": "2024-06-04T11:11:30.372844Z",
     "iopub.status.idle": "2024-06-04T11:11:30.487807Z",
     "shell.execute_reply": "2024-06-04T11:11:30.488485Z",
     "shell.execute_reply.started": "2024-06-04T10:59:47.140431Z"
    },
    "papermill": {
     "duration": 0.205933,
     "end_time": "2024-06-04T11:11:30.488731",
     "exception": false,
     "start_time": "2024-06-04T11:11:30.282798",
     "status": "completed"
    },
    "tags": []
   },
   "outputs": [
    {
     "name": "stdout",
     "output_type": "stream",
     "text": [
      "14/14 [==============================] - 0s 2ms/step - loss: 0.9091 - accuracy: 0.6875\n",
      "Model Loss :  0.9090810418128967\n",
      "Model Accuracy :  0.6875\n"
     ]
    }
   ],
   "source": [
    "# let show the Model loss and accuracy \n",
    "\n",
    "Model_loss, Model_Accuracy = M_Class.evaluate(X_test,y_test)\n",
    "print(\"Model Loss : \" ,Model_loss )\n",
    "print(\"Model Accuracy : \" ,Model_Accuracy )"
   ]
  },
  {
   "cell_type": "code",
   "execution_count": 25,
   "id": "a0325a55",
   "metadata": {
    "execution": {
     "iopub.execute_input": "2024-06-04T11:11:30.665405Z",
     "iopub.status.busy": "2024-06-04T11:11:30.664477Z",
     "iopub.status.idle": "2024-06-04T11:11:30.859538Z",
     "shell.execute_reply": "2024-06-04T11:11:30.858414Z",
     "shell.execute_reply.started": "2024-06-04T11:00:27.639844Z"
    },
    "papermill": {
     "duration": 0.287462,
     "end_time": "2024-06-04T11:11:30.859745",
     "exception": false,
     "start_time": "2024-06-04T11:11:30.572283",
     "status": "completed"
    },
    "tags": []
   },
   "outputs": [],
   "source": [
    "# make y prediction \n",
    "\n",
    "y_pred = M_Class.predict(X_test)"
   ]
  },
  {
   "cell_type": "code",
   "execution_count": 26,
   "id": "e2ec0fef",
   "metadata": {
    "execution": {
     "iopub.execute_input": "2024-06-04T11:11:31.036702Z",
     "iopub.status.busy": "2024-06-04T11:11:31.035460Z",
     "iopub.status.idle": "2024-06-04T11:11:31.039493Z",
     "shell.execute_reply": "2024-06-04T11:11:31.040106Z",
     "shell.execute_reply.started": "2024-06-04T11:01:00.179730Z"
    },
    "papermill": {
     "duration": 0.096269,
     "end_time": "2024-06-04T11:11:31.040315",
     "exception": false,
     "start_time": "2024-06-04T11:11:30.944046",
     "status": "completed"
    },
    "tags": []
   },
   "outputs": [
    {
     "data": {
      "text/plain": [
       "array([[0.22181344, 0.11309424, 0.5515263 , 0.11356603],\n",
       "       [0.0870496 , 0.03869331, 0.8350806 , 0.03917648],\n",
       "       [0.17783578, 0.05908407, 0.7132289 , 0.04985128],\n",
       "       ...,\n",
       "       [0.17274453, 0.03948947, 0.7558363 , 0.03192957],\n",
       "       [0.1308994 , 0.04024272, 0.79268134, 0.03617652],\n",
       "       [0.20572719, 0.04588551, 0.71630573, 0.03208144]], dtype=float32)"
      ]
     },
     "execution_count": 26,
     "metadata": {},
     "output_type": "execute_result"
    }
   ],
   "source": [
    "# show the Y predict\n",
    "\n",
    "y_pred"
   ]
  },
  {
   "cell_type": "markdown",
   "id": "4a624fed",
   "metadata": {
    "papermill": {
     "duration": 0.088666,
     "end_time": "2024-06-04T11:11:31.214625",
     "exception": false,
     "start_time": "2024-06-04T11:11:31.125959",
     "status": "completed"
    },
    "tags": []
   },
   "source": [
    "- You see , we have 4 columns . we should adjusted"
   ]
  },
  {
   "cell_type": "code",
   "execution_count": 27,
   "id": "6d56bbe9",
   "metadata": {
    "execution": {
     "iopub.execute_input": "2024-06-04T11:11:31.392884Z",
     "iopub.status.busy": "2024-06-04T11:11:31.391736Z",
     "iopub.status.idle": "2024-06-04T11:11:31.399811Z",
     "shell.execute_reply": "2024-06-04T11:11:31.399014Z",
     "shell.execute_reply.started": "2024-06-04T11:02:07.800502Z"
    },
    "papermill": {
     "duration": 0.100144,
     "end_time": "2024-06-04T11:11:31.400016",
     "exception": false,
     "start_time": "2024-06-04T11:11:31.299872",
     "status": "completed"
    },
    "tags": []
   },
   "outputs": [],
   "source": [
    "N_y_pred= [np.argmax(i) for i in y_pred]\n",
    "N_y_test = [np.argmax(i) for i in y_test]"
   ]
  },
  {
   "cell_type": "code",
   "execution_count": 28,
   "id": "7b27e40e",
   "metadata": {
    "execution": {
     "iopub.execute_input": "2024-06-04T11:11:31.579216Z",
     "iopub.status.busy": "2024-06-04T11:11:31.577753Z",
     "iopub.status.idle": "2024-06-04T11:11:31.596046Z",
     "shell.execute_reply": "2024-06-04T11:11:31.594616Z",
     "shell.execute_reply.started": "2024-06-04T11:03:58.959662Z"
    },
    "papermill": {
     "duration": 0.111789,
     "end_time": "2024-06-04T11:11:31.596417",
     "exception": false,
     "start_time": "2024-06-04T11:11:31.484628",
     "status": "completed"
    },
    "tags": []
   },
   "outputs": [
    {
     "name": "stdout",
     "output_type": "stream",
     "text": [
      "The Classification Report : \n",
      "               precision    recall  f1-score   support\n",
      "\n",
      "           0       0.80      0.04      0.07       103\n",
      "           1       0.00      0.00      0.00        15\n",
      "           2       0.69      1.00      0.81       294\n",
      "           3       0.00      0.00      0.00        20\n",
      "\n",
      "    accuracy                           0.69       432\n",
      "   macro avg       0.37      0.26      0.22       432\n",
      "weighted avg       0.66      0.69      0.57       432\n",
      "\n"
     ]
    },
    {
     "name": "stderr",
     "output_type": "stream",
     "text": [
      "/opt/conda/lib/python3.7/site-packages/sklearn/metrics/_classification.py:1308: UndefinedMetricWarning: Precision and F-score are ill-defined and being set to 0.0 in labels with no predicted samples. Use `zero_division` parameter to control this behavior.\n",
      "  _warn_prf(average, modifier, msg_start, len(result))\n",
      "/opt/conda/lib/python3.7/site-packages/sklearn/metrics/_classification.py:1308: UndefinedMetricWarning: Precision and F-score are ill-defined and being set to 0.0 in labels with no predicted samples. Use `zero_division` parameter to control this behavior.\n",
      "  _warn_prf(average, modifier, msg_start, len(result))\n",
      "/opt/conda/lib/python3.7/site-packages/sklearn/metrics/_classification.py:1308: UndefinedMetricWarning: Precision and F-score are ill-defined and being set to 0.0 in labels with no predicted samples. Use `zero_division` parameter to control this behavior.\n",
      "  _warn_prf(average, modifier, msg_start, len(result))\n"
     ]
    }
   ],
   "source": [
    "# the classifcation Report\n",
    "C_R = classification_report(N_y_test,N_y_pred)\n",
    "print(\"The Classification Report : \\n\", C_R)"
   ]
  },
  {
   "cell_type": "code",
   "execution_count": 29,
   "id": "a86e39be",
   "metadata": {
    "execution": {
     "iopub.execute_input": "2024-06-04T11:11:31.785971Z",
     "iopub.status.busy": "2024-06-04T11:11:31.783034Z",
     "iopub.status.idle": "2024-06-04T11:11:31.791078Z",
     "shell.execute_reply": "2024-06-04T11:11:31.791715Z",
     "shell.execute_reply.started": "2024-06-04T11:04:17.339961Z"
    },
    "papermill": {
     "duration": 0.103713,
     "end_time": "2024-06-04T11:11:31.791974",
     "exception": false,
     "start_time": "2024-06-04T11:11:31.688261",
     "status": "completed"
    },
    "tags": []
   },
   "outputs": [
    {
     "data": {
      "text/plain": [
       "array([[  4,   0,  99,   0],\n",
       "       [  0,   0,  15,   0],\n",
       "       [  1,   0, 293,   0],\n",
       "       [  0,   0,  20,   0]])"
      ]
     },
     "execution_count": 29,
     "metadata": {},
     "output_type": "execute_result"
    }
   ],
   "source": [
    "#make confusion Matrix\n",
    "C_M = confusion_matrix(N_y_test,N_y_pred)\n",
    "C_M"
   ]
  },
  {
   "cell_type": "code",
   "execution_count": 30,
   "id": "4507b98c",
   "metadata": {
    "execution": {
     "iopub.execute_input": "2024-06-04T11:11:31.996215Z",
     "iopub.status.busy": "2024-06-04T11:11:31.991716Z",
     "iopub.status.idle": "2024-06-04T11:11:32.228130Z",
     "shell.execute_reply": "2024-06-04T11:11:32.227353Z",
     "shell.execute_reply.started": "2024-06-04T11:04:27.079846Z"
    },
    "papermill": {
     "duration": 0.349444,
     "end_time": "2024-06-04T11:11:32.228305",
     "exception": false,
     "start_time": "2024-06-04T11:11:31.878861",
     "status": "completed"
    },
    "tags": []
   },
   "outputs": [
    {
     "data": {
      "text/plain": [
       "<AxesSubplot:>"
      ]
     },
     "execution_count": 30,
     "metadata": {},
     "output_type": "execute_result"
    },
    {
     "data": {
      "image/png": "[encoded data removed]",
      "text/plain": [
       "<Figure size 432x288 with 2 Axes>"
      ]
     },
     "metadata": {
      "needs_background": "light"
     },
     "output_type": "display_data"
    }
   ],
   "source": [
    "sns.heatmap(C_M)"
   ]
  },
  {
   "cell_type": "code",
   "execution_count": 31,
   "id": "29a88aa3",
   "metadata": {
    "execution": {
     "iopub.execute_input": "2024-06-04T11:11:32.452573Z",
     "iopub.status.busy": "2024-06-04T11:11:32.421060Z",
     "iopub.status.idle": "2024-06-04T11:11:32.624799Z",
     "shell.execute_reply": "2024-06-04T11:11:32.624005Z",
     "shell.execute_reply.started": "2024-06-04T11:06:10.668151Z"
    },
    "papermill": {
     "duration": 0.30874,
     "end_time": "2024-06-04T11:11:32.625011",
     "exception": false,
     "start_time": "2024-06-04T11:11:32.316271",
     "status": "completed"
    },
    "tags": []
   },
   "outputs": [
    {
     "data": {
      "image/png": "[encoded data removed]",
      "text/plain": [
       "<Figure size 432x288 with 1 Axes>"
      ]
     },
     "metadata": {
      "needs_background": "light"
     },
     "output_type": "display_data"
    }
   ],
   "source": [
    "# Drow the graph to show the Model Accuracy \n",
    "\n",
    "plt.plot(Fit_M.history[\"accuracy\"])\n",
    "plt.plot(Fit_M.history[\"val_accuracy\"])\n",
    "plt.title(\"Model Accuracy\")\n",
    "plt.ylabel(\"Accuracy\")\n",
    "plt.xlabel(\"Epoch\")\n",
    "plt.legend([\"Train\",\"Validation\"])\n",
    "plt.show()"
   ]
  },
  {
   "cell_type": "code",
   "execution_count": 32,
   "id": "4c240d1a",
   "metadata": {
    "execution": {
     "iopub.execute_input": "2024-06-04T11:11:33.030751Z",
     "iopub.status.busy": "2024-06-04T11:11:33.029520Z",
     "iopub.status.idle": "2024-06-04T11:11:33.228531Z",
     "shell.execute_reply": "2024-06-04T11:11:33.227690Z",
     "shell.execute_reply.started": "2024-06-04T11:06:30.468184Z"
    },
    "papermill": {
     "duration": 0.51063,
     "end_time": "2024-06-04T11:11:33.228706",
     "exception": false,
     "start_time": "2024-06-04T11:11:32.718076",
     "status": "completed"
    },
    "tags": []
   },
   "outputs": [
    {
     "data": {
      "image/png": "[encoded data removed]",
      "text/plain": [
       "<Figure size 432x288 with 1 Axes>"
      ]
     },
     "metadata": {
      "needs_background": "light"
     },
     "output_type": "display_data"
    }
   ],
   "source": [
    "# Drow the graph to show the Model Loss \n",
    "\n",
    "plt.plot(Fit_M.history[\"loss\"])\n",
    "plt.plot(Fit_M.history[\"val_loss\"])\n",
    "plt.title(\"Model Loss\")\n",
    "plt.ylabel(\"Loss\")\n",
    "plt.xlabel(\"Epoch\")\n",
    "plt.legend([\"Train\",\"Validation\"])\n",
    "plt.show()"
   ]
  },
  {
   "cell_type": "markdown",
   "id": "65fd8991",
   "metadata": {
    "papermill": {
     "duration": 0.09362,
     "end_time": "2024-06-04T11:11:33.416673",
     "exception": false,
     "start_time": "2024-06-04T11:11:33.323053",
     "status": "completed"
    },
    "tags": []
   },
   "source": [
    " <div style = 'border : 3px solid non; background-color:#ffffff;font-family:Gabriola;color:#000080; ; ;padding:10px'>\n",
    "<p style=\"font-family:Georgia;padding:20px;line-height:25px;\";><font style=\"font-family:Georgia; font-size:150%;\">   </font>\n",
    "    <p style = \"font-size:200%; color:#800080\"> 📌 Result ML</p>"
   ]
  },
  {
   "cell_type": "markdown",
   "id": "bbc96ac8",
   "metadata": {
    "papermill": {
     "duration": 0.100025,
     "end_time": "2024-06-04T11:11:33.609771",
     "exception": false,
     "start_time": "2024-06-04T11:11:33.509746",
     "status": "completed"
    },
    "tags": []
   },
   "source": [
    "- For me I prefer using FT for 2 category not good, the accuracy not very good in Multi classification\n"
   ]
  },
  {
   "cell_type": "markdown",
   "id": "6e8b8062",
   "metadata": {
    "papermill": {
     "duration": 0.090711,
     "end_time": "2024-06-04T11:11:33.792009",
     "exception": false,
     "start_time": "2024-06-04T11:11:33.701298",
     "status": "completed"
    },
    "tags": []
   },
   "source": [
    "#  📲 Connect me:\n",
    "-  <a href=\"https://www.kaggle.com/qusaybtoush1990\">kaggle</a>\n",
    "-  <a href=\"https://www.linkedin.com/in/qusayal-btoush/\">Linkedin</a>\n",
    "-  <a href=\"https://github.com/qusaybtoush\">github</a>"
   ]
  },
  {
   "cell_type": "markdown",
   "id": "72caed5d",
   "metadata": {
    "papermill": {
     "duration": 0.088755,
     "end_time": "2024-06-04T11:11:33.969688",
     "exception": false,
     "start_time": "2024-06-04T11:11:33.880933",
     "status": "completed"
    },
    "tags": []
   },
   "source": [
    "# Vote ❤️😃\n",
    "- Please Upvote my kernel if you like my work.🙌\n",
    "\n",
    "# The End 🤝🎉🤝🎉\n",
    "### 🖐 Thank you 🙏"
   ]
  }
 ],
 "metadata": {
  "kaggle": {
   "accelerator": "none",
   "dataSources": [
    {
     "datasetId": 1991402,
     "sourceId": 3288967,
     "sourceType": "datasetVersion"
    }
   ],
   "dockerImageVersionId": 30170,
   "isGpuEnabled": false,
   "isInternetEnabled": true,
   "language": "python",
   "sourceType": "notebook"
  },
  "kernelspec": {
   "display_name": "Python 3",
   "language": "python",
   "name": "python3"
  },
  "language_info": {
   "codemirror_mode": {
    "name": "ipython",
    "version": 3
   },
   "file_extension": ".py",
   "mimetype": "text/x-python",
   "name": "python",
   "nbconvert_exporter": "python",
   "pygments_lexer": "ipython3",
   "version": "3.7.12"
  },
  "papermill": {
   "default_parameters": {},
   "duration": 37.120689,
   "end_time": "2024-06-04T11:11:37.629809",
   "environment_variables": {},
   "exception": null,
   "input_path": "__notebook__.ipynb",
   "output_path": "__notebook__.ipynb",
   "parameters": {},
   "start_time": "2024-06-04T11:11:00.509120",
   "version": "2.3.3"
  }
 },
 "nbformat": 4,
 "nbformat_minor": 5
}
